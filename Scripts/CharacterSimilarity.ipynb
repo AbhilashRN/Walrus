{
 "cells": [
  {
   "cell_type": "markdown",
   "metadata": {},
   "source": [
    "### Doc\n",
    "\n",
    "This module of the system provides a similarity comparison between two movies in terms of the characters. Given two movies, the characters along with their prominent traits are fetched from the Word Vector file. Based on the word vector for each character, the cosine distance is estimated between the characters from both movies. Then for each character of the first movie, the most similar character from the second is provided. <br>\n",
    "\n",
    "##### Input\n",
    "\n",
    "Enter two movie names\n",
    "\n",
    "##### Output\n",
    "\n",
    "n x 2 array of characters along with their equivalent characters from movie 2 where n is the number of characters with traits."
   ]
  },
  {
   "cell_type": "code",
   "execution_count": 1,
   "metadata": {},
   "outputs": [],
   "source": [
    "import pandas as pd\n",
    "import numpy as np\n",
    "import math\n",
    "from typing import List\n"
   ]
  },
  {
   "cell_type": "code",
   "execution_count": 2,
   "metadata": {},
   "outputs": [],
   "source": [
    "Vector = List[float]\n",
    "def vector_len(v: Vector) -> float:\n",
    "    return math.sqrt(sum([x*x for x in v]))\n",
    "\n",
    "def dot_product(v1: Vector, v2: Vector) -> float:\n",
    "    assert len(v1) == len(v2)\n",
    "    return sum([x*y for (x,y) in zip(v1, v2)])\n",
    "\n",
    "def cosine_similarity(v1: Vector, v2: Vector) -> float:\n",
    "    \"\"\"\n",
    "    Returns the cosine of the angle between the two vectors.\n",
    "    Results range from -1 (very different) to 1 (very similar).\n",
    "    \"\"\"\n",
    "    return dot_product(v1, v2) / (vector_len(v1) * vector_len(v2))\n",
    "\n",
    "def replace1(row):\n",
    "    val = row['WordVec']\n",
    "    if val == '0':\n",
    "        paddingwordvec = [0 for i in range(200)]\n",
    "\n",
    "        val = paddingwordvec\n",
    "    else:\n",
    "        z = val.split(' ')\n",
    "        final_vec1 = []\n",
    "        for i in z:\n",
    "            if i != '':\n",
    "                final_vec1.append(float(i))\n",
    "                val = final_vec1\n",
    "    return val\n",
    "\n"
   ]
  },
  {
   "cell_type": "code",
   "execution_count": 3,
   "metadata": {},
   "outputs": [],
   "source": [
    "class character_similarity():\n",
    "    def __init__(self,moviename1, moviename2):\n",
    "        self.moviename1 = moviename1\n",
    "        self.moviename2 = moviename2\n",
    "        data = pd.read_csv(\"../Bollywood-Data-master/wikipedia-data/avg_wv_relation.csv\") \n",
    "        \n",
    "        \n",
    "        #Remove NaN values\n",
    "        data1 = data.dropna()\n",
    "        \n",
    "        #Remove entries that do not have character names\n",
    "        somex = data1.Char.tolist()\n",
    "        for i,j in enumerate(somex):\n",
    "            z = j.split('_')\n",
    "            if len(z) == 1:\n",
    "                val = i\n",
    "        data1 = data1.drop(data1.index[[val]])\n",
    "\n",
    "        \n",
    "        # Create two more columns\n",
    "        data1['Movie'] = data1['Char'].apply(lambda s:s.split('_')[1])\n",
    "        data1['Character'] = data1['Char'].apply(lambda s:s.split('_')[0])\n",
    "        data1['WordVec'] = data1.apply(replace1, axis = 1)\n",
    "        data1 = data1.reset_index()\n",
    "        self.datamovie1 = data1[data1.Movie == moviename1]\n",
    "        self.datamovie2 = data1[data1.Movie == moviename2]\n",
    "        \n",
    "    def compute_similarity(self):\n",
    "        datamovie1 = self.datamovie1\n",
    "        datamovie2 = self.datamovie2\n",
    "        matrixx = []\n",
    "        for i in range(len(datamovie1)):\n",
    "            val = np.array(datamovie1.iloc[i].WordVec)\n",
    "            lst = np.array(datamovie2.WordVec.tolist())\n",
    "            retv = list([cosine_similarity(val, i) for i in lst])\n",
    "            name = [datamovie1.iloc[i]['Character']]\n",
    "            retv = retv + name \n",
    "            matrixx.append(retv)\n",
    "        matrixx = np.matrix(matrixx)\n",
    "        movie2names = datamovie2.Character.tolist()\n",
    "        dataf = pd.DataFrame(matrixx, columns = movie2names+['names'])\n",
    "        dataf = dataf.set_index('names')\n",
    "        dataf = dataf[movie2names].astype(float)\n",
    "        return dataf.idxmax(axis = 1)\n",
    "\n"
   ]
  },
  {
   "cell_type": "code",
   "execution_count": 4,
   "metadata": {},
   "outputs": [
    {
     "data": {
      "text/plain": [
       "{'Radha': 'Dindayal',\n",
       " 'Bihari': 'Sarju',\n",
       " 'Chand': 'Janki',\n",
       " 'Singh': 'Sarju',\n",
       " 'Vijaykamal': 'Sarju'}"
      ]
     },
     "execution_count": 4,
     "metadata": {},
     "output_type": "execute_result"
    }
   ],
   "source": [
    "x = character_similarity('Khilona', 'Geet')\n",
    "y = x.compute_similarity().to_dict()\n",
    "y"
   ]
  },
  {
   "cell_type": "code",
   "execution_count": null,
   "metadata": {},
   "outputs": [],
   "source": []
  }
 ],
 "metadata": {
  "kernelspec": {
   "display_name": "Python 3",
   "language": "python",
   "name": "python3"
  },
  "language_info": {
   "codemirror_mode": {
    "name": "ipython",
    "version": 3
   },
   "file_extension": ".py",
   "mimetype": "text/x-python",
   "name": "python",
   "nbconvert_exporter": "python",
   "pygments_lexer": "ipython3",
   "version": "3.6.5"
  }
 },
 "nbformat": 4,
 "nbformat_minor": 2
}
