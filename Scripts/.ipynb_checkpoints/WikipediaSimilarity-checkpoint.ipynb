{
 "cells": [
  {
   "cell_type": "code",
   "execution_count": 1,
   "metadata": {},
   "outputs": [],
   "source": [
    "import numpy as np\n",
    "import pandas as pd\n",
    "import ast\n",
    "\n",
    "dataframe1 = pd.read_csv('../PeopleInMovie.csv')\n",
    "peopled = pd.read_csv('../WikipediaFinal.csv')\n"
   ]
  },
  {
   "cell_type": "code",
   "execution_count": 2,
   "metadata": {},
   "outputs": [],
   "source": [
    "class wikipedia_similarity():\n",
    "    def __init__(self,moviename1):\n",
    "        self.moviename1 = moviename1\n",
    "        reqdNames = dataframe1[dataframe1['Movie'] == moviename1]['NewChar'].tolist()\n",
    "        self.names = ast.literal_eval(reqdNames[0])\n",
    "    def compute_similar(self):\n",
    "        listofmovies = []\n",
    "        for x in self.names:\n",
    "            req = peopled[peopled['Name'] == x]['Movies'].tolist()\n",
    "            lst = ast.literal_eval(req[0])\n",
    "            lst.remove(self.moviename1)\n",
    "            listofmovies += lst\n",
    "        return max(set(listofmovies), key=listofmovies.count)\n"
   ]
  },
  {
   "cell_type": "code",
   "execution_count": 3,
   "metadata": {},
   "outputs": [
    {
     "data": {
      "text/plain": [
       "'Andha Kanoon'"
      ]
     },
     "execution_count": 3,
     "metadata": {},
     "output_type": "execute_result"
    }
   ],
   "source": [
    "moviename = 'Avtaar'\n",
    "x = wikipedia_similarity(moviename)\n",
    "x.compute_similar()"
   ]
  },
  {
   "cell_type": "code",
   "execution_count": null,
   "metadata": {},
   "outputs": [],
   "source": []
  }
 ],
 "metadata": {
  "kernelspec": {
   "display_name": "Python 3",
   "language": "python",
   "name": "python3"
  },
  "language_info": {
   "codemirror_mode": {
    "name": "ipython",
    "version": 3
   },
   "file_extension": ".py",
   "mimetype": "text/x-python",
   "name": "python",
   "nbconvert_exporter": "python",
   "pygments_lexer": "ipython3",
   "version": "3.6.5"
  }
 },
 "nbformat": 4,
 "nbformat_minor": 2
}
